{
 "cells": [
  {
   "cell_type": "code",
   "execution_count": 1,
   "id": "726af7f2",
   "metadata": {},
   "outputs": [],
   "source": [
    "import pandas as pd\n",
    "import numpy as np\n",
    "import matplotlib.pyplot as plt\n",
    "import seaborn as sns\n",
    "import statsmodels.api as sm\n",
    "from sklearn.model_selection import train_test_split\n",
    "from sklearn.linear_model import LogisticRegression\n",
    "from sklearn.ensemble import RandomForestRegressor\n",
    "from sklearn.tree import DecisionTreeRegressor\n",
    "from sklearn.datasets import make_regression\n",
    "from sklearn.metrics import mean_squared_error\n",
    "from math import sqrt\n",
    "from sklearn.linear_model import LinearRegression\n",
    "from sklearn.datasets import make_hastie_10_2\n",
    "from sklearn.ensemble import GradientBoostingRegressor\n",
    "from sklearn.ensemble import AdaBoostRegressor\n",
    "from sklearn.datasets import make_classification\n",
    "from sklearn.tree import DecisionTreeClassifier\n",
    "from sklearn.ensemble import RandomForestClassifier\n",
    "from sklearn.datasets import make_regression\n",
    "from sklearn.metrics import mean_squared_error\n",
    "from math import sqrt\n",
    "from sklearn.model_selection import cross_val_score\n",
    "from sklearn.linear_model import LogisticRegression\n",
    "from sklearn.datasets import make_hastie_10_2\n",
    "from sklearn.ensemble import GradientBoostingClassifier\n",
    "from sklearn.ensemble import AdaBoostClassifier\n",
    "from sklearn.datasets import make_classification\n",
    "from sklearn.preprocessing import normalize\n",
    "import scipy.cluster.hierarchy as shc\n",
    "from sklearn.decomposition import PCA\n",
    "from sklearn.cluster import AgglomerativeClustering\n",
    "from tabulate import tabulate\n",
    "from sklearn.model_selection import ShuffleSplit\n",
    "from sklearn.impute import SimpleImputer\n",
    "from sklearn.preprocessing import OneHotEncoder\n",
    "from sklearn.neighbors import KNeighborsClassifier\n",
    "from sklearn import datasets\n",
    "from sklearn import svm\n",
    "from sklearn.model_selection import train_test_split\n",
    "from sklearn.datasets import load_iris\n",
    "from sklearn.preprocessing import PolynomialFeatures\n",
    "from sklearn.model_selection import KFold"
   ]
  },
  {
   "cell_type": "code",
   "execution_count": 2,
   "id": "80ce924e",
   "metadata": {},
   "outputs": [],
   "source": [
    "taxi=pd.read_csv(r\"\\Users\\Mano\\Documents\\Taxi Fare Prediction\\Dataset\\TaxiFare.csv\")"
   ]
  },
  {
   "cell_type": "code",
   "execution_count": 3,
   "id": "6999af31",
   "metadata": {},
   "outputs": [
    {
     "data": {
      "text/html": [
       "<div>\n",
       "<style scoped>\n",
       "    .dataframe tbody tr th:only-of-type {\n",
       "        vertical-align: middle;\n",
       "    }\n",
       "\n",
       "    .dataframe tbody tr th {\n",
       "        vertical-align: top;\n",
       "    }\n",
       "\n",
       "    .dataframe thead th {\n",
       "        text-align: right;\n",
       "    }\n",
       "</style>\n",
       "<table border=\"1\" class=\"dataframe\">\n",
       "  <thead>\n",
       "    <tr style=\"text-align: right;\">\n",
       "      <th></th>\n",
       "      <th>unique_id</th>\n",
       "      <th>amount</th>\n",
       "      <th>date_time_of_pickup</th>\n",
       "      <th>longitude_of_pickup</th>\n",
       "      <th>latitude_of_pickup</th>\n",
       "      <th>longitude_of_dropoff</th>\n",
       "      <th>latitude_of_dropoff</th>\n",
       "      <th>no_of_passenger</th>\n",
       "    </tr>\n",
       "  </thead>\n",
       "  <tbody>\n",
       "    <tr>\n",
       "      <th>0</th>\n",
       "      <td>26:21.0</td>\n",
       "      <td>4.5</td>\n",
       "      <td>2009-06-15 17:26:21 UTC</td>\n",
       "      <td>-73.844311</td>\n",
       "      <td>40.721319</td>\n",
       "      <td>-73.841610</td>\n",
       "      <td>40.712278</td>\n",
       "      <td>1</td>\n",
       "    </tr>\n",
       "    <tr>\n",
       "      <th>1</th>\n",
       "      <td>52:16.0</td>\n",
       "      <td>16.9</td>\n",
       "      <td>2010-01-05 16:52:16 UTC</td>\n",
       "      <td>-74.016048</td>\n",
       "      <td>40.711303</td>\n",
       "      <td>-73.979268</td>\n",
       "      <td>40.782004</td>\n",
       "      <td>1</td>\n",
       "    </tr>\n",
       "    <tr>\n",
       "      <th>2</th>\n",
       "      <td>35:00.0</td>\n",
       "      <td>5.7</td>\n",
       "      <td>2011-08-18 00:35:00 UTC</td>\n",
       "      <td>-73.982738</td>\n",
       "      <td>40.761270</td>\n",
       "      <td>-73.991242</td>\n",
       "      <td>40.750562</td>\n",
       "      <td>2</td>\n",
       "    </tr>\n",
       "    <tr>\n",
       "      <th>3</th>\n",
       "      <td>30:42.0</td>\n",
       "      <td>7.7</td>\n",
       "      <td>2012-04-21 04:30:42 UTC</td>\n",
       "      <td>-73.987130</td>\n",
       "      <td>40.733143</td>\n",
       "      <td>-73.991567</td>\n",
       "      <td>40.758092</td>\n",
       "      <td>1</td>\n",
       "    </tr>\n",
       "    <tr>\n",
       "      <th>4</th>\n",
       "      <td>51:00.0</td>\n",
       "      <td>5.3</td>\n",
       "      <td>2010-03-09 07:51:00 UTC</td>\n",
       "      <td>-73.968095</td>\n",
       "      <td>40.768008</td>\n",
       "      <td>-73.956655</td>\n",
       "      <td>40.783762</td>\n",
       "      <td>1</td>\n",
       "    </tr>\n",
       "  </tbody>\n",
       "</table>\n",
       "</div>"
      ],
      "text/plain": [
       "  unique_id  amount      date_time_of_pickup  longitude_of_pickup  \\\n",
       "0   26:21.0     4.5  2009-06-15 17:26:21 UTC           -73.844311   \n",
       "1   52:16.0    16.9  2010-01-05 16:52:16 UTC           -74.016048   \n",
       "2   35:00.0     5.7  2011-08-18 00:35:00 UTC           -73.982738   \n",
       "3   30:42.0     7.7  2012-04-21 04:30:42 UTC           -73.987130   \n",
       "4   51:00.0     5.3  2010-03-09 07:51:00 UTC           -73.968095   \n",
       "\n",
       "   latitude_of_pickup  longitude_of_dropoff  latitude_of_dropoff  \\\n",
       "0           40.721319            -73.841610            40.712278   \n",
       "1           40.711303            -73.979268            40.782004   \n",
       "2           40.761270            -73.991242            40.750562   \n",
       "3           40.733143            -73.991567            40.758092   \n",
       "4           40.768008            -73.956655            40.783762   \n",
       "\n",
       "   no_of_passenger  \n",
       "0                1  \n",
       "1                1  \n",
       "2                2  \n",
       "3                1  \n",
       "4                1  "
      ]
     },
     "execution_count": 3,
     "metadata": {},
     "output_type": "execute_result"
    }
   ],
   "source": [
    "taxi.head()"
   ]
  },
  {
   "cell_type": "code",
   "execution_count": 4,
   "id": "5790aeb0",
   "metadata": {},
   "outputs": [
    {
     "data": {
      "text/plain": [
       "unique_id               0\n",
       "amount                  0\n",
       "date_time_of_pickup     0\n",
       "longitude_of_pickup     0\n",
       "latitude_of_pickup      0\n",
       "longitude_of_dropoff    0\n",
       "latitude_of_dropoff     0\n",
       "no_of_passenger         0\n",
       "dtype: int64"
      ]
     },
     "execution_count": 4,
     "metadata": {},
     "output_type": "execute_result"
    }
   ],
   "source": [
    "taxi.isnull().sum()"
   ]
  },
  {
   "cell_type": "code",
   "execution_count": 5,
   "id": "984c6c3e",
   "metadata": {},
   "outputs": [
    {
     "data": {
      "text/plain": [
       "{'whiskers': [<matplotlib.lines.Line2D at 0x20e16d95a90>,\n",
       "  <matplotlib.lines.Line2D at 0x20e16d95d60>],\n",
       " 'caps': [<matplotlib.lines.Line2D at 0x20e178b2130>,\n",
       "  <matplotlib.lines.Line2D at 0x20e178b24c0>],\n",
       " 'boxes': [<matplotlib.lines.Line2D at 0x20e16d95640>],\n",
       " 'medians': [<matplotlib.lines.Line2D at 0x20e178b2850>],\n",
       " 'fliers': [<matplotlib.lines.Line2D at 0x20e178b2be0>],\n",
       " 'means': []}"
      ]
     },
     "execution_count": 5,
     "metadata": {},
     "output_type": "execute_result"
    },
    {
     "data": {
      "image/png": "[encoded data removed]",
      "text/plain": [
       "<Figure size 432x288 with 1 Axes>"
      ]
     },
     "metadata": {
      "needs_background": "light"
     },
     "output_type": "display_data"
    }
   ],
   "source": [
    "plt.boxplot(taxi.longitude_of_pickup)"
   ]
  },
  {
   "cell_type": "code",
   "execution_count": 6,
   "id": "cdebb255",
   "metadata": {},
   "outputs": [],
   "source": [
    "q3=taxi[\"longitude_of_pickup\"].quantile(0.75)\n",
    "q1=taxi[\"longitude_of_pickup\"].quantile(0.25)\n",
    "iqr= q3-q1"
   ]
  },
  {
   "cell_type": "code",
   "execution_count": 7,
   "id": "2c9289b6",
   "metadata": {},
   "outputs": [],
   "source": [
    "upper_limt=q1+(iqr*1.5)\n",
    "lower_limt=q3-(iqr*1.5)"
   ]
  },
  {
   "cell_type": "code",
   "execution_count": 8,
   "id": "375144a7",
   "metadata": {},
   "outputs": [
    {
     "data": {
      "text/plain": [
       "-73.95469100000001"
      ]
     },
     "execution_count": 8,
     "metadata": {},
     "output_type": "execute_result"
    }
   ],
   "source": [
    "upper_limt"
   ]
  },
  {
   "cell_type": "code",
   "execution_count": 9,
   "id": "7f7be8c0",
   "metadata": {},
   "outputs": [
    {
     "data": {
      "text/plain": [
       "-74.004519"
      ]
     },
     "execution_count": 9,
     "metadata": {},
     "output_type": "execute_result"
    }
   ],
   "source": [
    "lower_limt"
   ]
  },
  {
   "cell_type": "code",
   "execution_count": 10,
   "id": "fc69740b",
   "metadata": {},
   "outputs": [],
   "source": [
    "taxi[\"longitude_of_pickup\"]=np.where(taxi[\"longitude_of_pickup\"] >= upper_limt,upper_limt,np.where(taxi[\"longitude_of_pickup\"] <= lower_limt,lower_limt,taxi[\"longitude_of_pickup\"]))"
   ]
  },
  {
   "cell_type": "code",
   "execution_count": 11,
   "id": "1c9ffed8",
   "metadata": {},
   "outputs": [
    {
     "data": {
      "text/plain": [
       "{'whiskers': [<matplotlib.lines.Line2D at 0x20e179b44f0>,\n",
       "  <matplotlib.lines.Line2D at 0x20e179b4880>],\n",
       " 'caps': [<matplotlib.lines.Line2D at 0x20e179b4c10>,\n",
       "  <matplotlib.lines.Line2D at 0x20e179b4fa0>],\n",
       " 'boxes': [<matplotlib.lines.Line2D at 0x20e179b4160>],\n",
       " 'medians': [<matplotlib.lines.Line2D at 0x20e179c1370>],\n",
       " 'fliers': [<matplotlib.lines.Line2D at 0x20e179c1700>],\n",
       " 'means': []}"
      ]
     },
     "execution_count": 11,
     "metadata": {},
     "output_type": "execute_result"
    },
    {
     "data": {
      "image/png": "[encoded data removed]",
      "text/plain": [
       "<Figure size 432x288 with 1 Axes>"
      ]
     },
     "metadata": {
      "needs_background": "light"
     },
     "output_type": "display_data"
    }
   ],
   "source": [
    "plt.boxplot(taxi.longitude_of_pickup)"
   ]
  },
  {
   "cell_type": "code",
   "execution_count": null,
   "id": "e47c9f04",
   "metadata": {
    "scrolled": true
   },
   "outputs": [],
   "source": []
  },
  {
   "cell_type": "code",
   "execution_count": 12,
   "id": "1b5c60c8",
   "metadata": {},
   "outputs": [
    {
     "data": {
      "text/plain": [
       "{'whiskers': [<matplotlib.lines.Line2D at 0x20e17a211f0>,\n",
       "  <matplotlib.lines.Line2D at 0x20e17a21580>],\n",
       " 'caps': [<matplotlib.lines.Line2D at 0x20e17a21910>,\n",
       "  <matplotlib.lines.Line2D at 0x20e17a21ca0>],\n",
       " 'boxes': [<matplotlib.lines.Line2D at 0x20e17a12e20>],\n",
       " 'medians': [<matplotlib.lines.Line2D at 0x20e17a2c070>],\n",
       " 'fliers': [<matplotlib.lines.Line2D at 0x20e17a2c400>],\n",
       " 'means': []}"
      ]
     },
     "execution_count": 12,
     "metadata": {},
     "output_type": "execute_result"
    },
    {
     "data": {
      "image/png": "[encoded data removed]",
      "text/plain": [
       "<Figure size 432x288 with 1 Axes>"
      ]
     },
     "metadata": {
      "needs_background": "light"
     },
     "output_type": "display_data"
    }
   ],
   "source": [
    "plt.boxplot(taxi.longitude_of_dropoff)"
   ]
  },
  {
   "cell_type": "code",
   "execution_count": 13,
   "id": "0c9cb968",
   "metadata": {},
   "outputs": [],
   "source": [
    "q3=taxi[\"longitude_of_dropoff\"].quantile(0.75)\n",
    "q1=taxi[\"longitude_of_dropoff\"].quantile(0.25)\n",
    "iqr= q3-q1"
   ]
  },
  {
   "cell_type": "code",
   "execution_count": 14,
   "id": "7cf5ad44",
   "metadata": {},
   "outputs": [],
   "source": [
    "upper_limt=q1+(iqr*1.5)\n",
    "lower_limt=q3-(iqr*1.5)"
   ]
  },
  {
   "cell_type": "code",
   "execution_count": 15,
   "id": "3467c8a4",
   "metadata": {},
   "outputs": [],
   "source": [
    "taxi[\"longitude_of_dropoff\"]=np.where(taxi[\"longitude_of_dropoff\"] >= upper_limt,upper_limt,np.where(taxi[\"longitude_of_dropoff\"] <= lower_limt,lower_limt,taxi[\"longitude_of_dropoff\"]))"
   ]
  },
  {
   "cell_type": "code",
   "execution_count": 16,
   "id": "08f4a215",
   "metadata": {},
   "outputs": [
    {
     "data": {
      "text/plain": [
       "{'whiskers': [<matplotlib.lines.Line2D at 0x20e17a85fa0>,\n",
       "  <matplotlib.lines.Line2D at 0x20e17a94370>],\n",
       " 'caps': [<matplotlib.lines.Line2D at 0x20e17a94700>,\n",
       "  <matplotlib.lines.Line2D at 0x20e17a94a90>],\n",
       " 'boxes': [<matplotlib.lines.Line2D at 0x20e17a85c10>],\n",
       " 'medians': [<matplotlib.lines.Line2D at 0x20e17a94e20>],\n",
       " 'fliers': [<matplotlib.lines.Line2D at 0x20e17a9f1f0>],\n",
       " 'means': []}"
      ]
     },
     "execution_count": 16,
     "metadata": {},
     "output_type": "execute_result"
    },
    {
     "data": {
      "image/png": "[encoded data removed]",
      "text/plain": [
       "<Figure size 432x288 with 1 Axes>"
      ]
     },
     "metadata": {
      "needs_background": "light"
     },
     "output_type": "display_data"
    }
   ],
   "source": [
    "plt.boxplot(taxi.longitude_of_dropoff)"
   ]
  },
  {
   "cell_type": "code",
   "execution_count": 17,
   "id": "ffb59730",
   "metadata": {},
   "outputs": [
    {
     "data": {
      "text/plain": [
       "{'whiskers': [<matplotlib.lines.Line2D at 0x20e17b00130>,\n",
       "  <matplotlib.lines.Line2D at 0x20e17b004c0>],\n",
       " 'caps': [<matplotlib.lines.Line2D at 0x20e17b00850>,\n",
       "  <matplotlib.lines.Line2D at 0x20e17b00be0>],\n",
       " 'boxes': [<matplotlib.lines.Line2D at 0x20e17af0d60>],\n",
       " 'medians': [<matplotlib.lines.Line2D at 0x20e17b00f70>],\n",
       " 'fliers': [<matplotlib.lines.Line2D at 0x20e17b0a340>],\n",
       " 'means': []}"
      ]
     },
     "execution_count": 17,
     "metadata": {},
     "output_type": "execute_result"
    },
    {
     "data": {
      "image/png": "[encoded data removed]",
      "text/plain": [
       "<Figure size 432x288 with 1 Axes>"
      ]
     },
     "metadata": {
      "needs_background": "light"
     },
     "output_type": "display_data"
    }
   ],
   "source": [
    "plt.boxplot(taxi.no_of_passenger)"
   ]
  },
  {
   "cell_type": "code",
   "execution_count": 18,
   "id": "ca035c7b",
   "metadata": {},
   "outputs": [],
   "source": [
    "q3=taxi[\"no_of_passenger\"].quantile(0.75)\n",
    "q1=taxi[\"no_of_passenger\"].quantile(0.25)\n",
    "iqr= q3-q1"
   ]
  },
  {
   "cell_type": "code",
   "execution_count": 19,
   "id": "453c6847",
   "metadata": {},
   "outputs": [],
   "source": [
    "upper_limt=q1+(iqr*1.5)\n",
    "lower_limt=q3-(iqr*1.5)"
   ]
  },
  {
   "cell_type": "code",
   "execution_count": 20,
   "id": "0aed4d8c",
   "metadata": {},
   "outputs": [],
   "source": [
    "taxi[\"no_of_passenger\"]=np.where(taxi[\"no_of_passenger\"] >= upper_limt,upper_limt,np.where(taxi[\"no_of_passenger\"] <= lower_limt,lower_limt,taxi[\"no_of_passenger\"]))"
   ]
  },
  {
   "cell_type": "code",
   "execution_count": 21,
   "id": "be8e7a1d",
   "metadata": {},
   "outputs": [
    {
     "data": {
      "text/plain": [
       "{'whiskers': [<matplotlib.lines.Line2D at 0x20e17b696a0>,\n",
       "  <matplotlib.lines.Line2D at 0x20e17b69a30>],\n",
       " 'caps': [<matplotlib.lines.Line2D at 0x20e17b69dc0>,\n",
       "  <matplotlib.lines.Line2D at 0x20e17b75190>],\n",
       " 'boxes': [<matplotlib.lines.Line2D at 0x20e17b69310>],\n",
       " 'medians': [<matplotlib.lines.Line2D at 0x20e17b75520>],\n",
       " 'fliers': [<matplotlib.lines.Line2D at 0x20e17b758b0>],\n",
       " 'means': []}"
      ]
     },
     "execution_count": 21,
     "metadata": {},
     "output_type": "execute_result"
    },
    {
     "data": {
      "image/png": "[encoded data removed]",
      "text/plain": [
       "<Figure size 432x288 with 1 Axes>"
      ]
     },
     "metadata": {
      "needs_background": "light"
     },
     "output_type": "display_data"
    }
   ],
   "source": [
    "plt.boxplot(taxi.no_of_passenger)"
   ]
  },
  {
   "cell_type": "code",
   "execution_count": 22,
   "id": "d36c6812",
   "metadata": {},
   "outputs": [
    {
     "data": {
      "text/plain": [
       "{'whiskers': [<matplotlib.lines.Line2D at 0x20e17bd97f0>,\n",
       "  <matplotlib.lines.Line2D at 0x20e17bd9b80>],\n",
       " 'caps': [<matplotlib.lines.Line2D at 0x20e17bd9f10>,\n",
       "  <matplotlib.lines.Line2D at 0x20e17be42e0>],\n",
       " 'boxes': [<matplotlib.lines.Line2D at 0x20e17bd9460>],\n",
       " 'medians': [<matplotlib.lines.Line2D at 0x20e17be4670>],\n",
       " 'fliers': [<matplotlib.lines.Line2D at 0x20e17be4a00>],\n",
       " 'means': []}"
      ]
     },
     "execution_count": 22,
     "metadata": {},
     "output_type": "execute_result"
    },
    {
     "data": {
      "image/png": "[encoded data removed]",
      "text/plain": [
       "<Figure size 432x288 with 1 Axes>"
      ]
     },
     "metadata": {
      "needs_background": "light"
     },
     "output_type": "display_data"
    }
   ],
   "source": [
    "plt.boxplot(taxi.latitude_of_pickup)"
   ]
  },
  {
   "cell_type": "code",
   "execution_count": 23,
   "id": "5884d14b",
   "metadata": {},
   "outputs": [],
   "source": [
    "q3=taxi[\"latitude_of_pickup\"].quantile(0.75)\n",
    "q1=taxi[\"latitude_of_pickup\"].quantile(0.25)\n",
    "iqr= q3-q1"
   ]
  },
  {
   "cell_type": "code",
   "execution_count": 24,
   "id": "1c568137",
   "metadata": {},
   "outputs": [],
   "source": [
    "upper_limt=q1+(iqr*1.5)\n",
    "lower_limt=q3-(iqr*1.5)"
   ]
  },
  {
   "cell_type": "code",
   "execution_count": 25,
   "id": "7a7b2024",
   "metadata": {},
   "outputs": [
    {
     "data": {
      "text/plain": [
       "40.78360074999999"
      ]
     },
     "execution_count": 25,
     "metadata": {},
     "output_type": "execute_result"
    }
   ],
   "source": [
    "upper_limt"
   ]
  },
  {
   "cell_type": "code",
   "execution_count": 26,
   "id": "2c033afd",
   "metadata": {},
   "outputs": [
    {
     "data": {
      "text/plain": [
       "40.718639749999994"
      ]
     },
     "execution_count": 26,
     "metadata": {},
     "output_type": "execute_result"
    }
   ],
   "source": [
    "lower_limt"
   ]
  },
  {
   "cell_type": "code",
   "execution_count": 27,
   "id": "c4a9a5f5",
   "metadata": {},
   "outputs": [],
   "source": [
    "taxi[\"latitude_of_pickup\"]=np.where(taxi[\"latitude_of_pickup\"] >= upper_limt,upper_limt,np.where(taxi[\"latitude_of_pickup\"] <= lower_limt,lower_limt,taxi[\"latitude_of_pickup\"]))"
   ]
  },
  {
   "cell_type": "code",
   "execution_count": 28,
   "id": "90397c76",
   "metadata": {},
   "outputs": [
    {
     "data": {
      "text/plain": [
       "{'whiskers': [<matplotlib.lines.Line2D at 0x20e17e4f8b0>,\n",
       "  <matplotlib.lines.Line2D at 0x20e17e4fc40>],\n",
       " 'caps': [<matplotlib.lines.Line2D at 0x20e17e4ffd0>,\n",
       "  <matplotlib.lines.Line2D at 0x20e17e5d3a0>],\n",
       " 'boxes': [<matplotlib.lines.Line2D at 0x20e17e4f520>],\n",
       " 'medians': [<matplotlib.lines.Line2D at 0x20e17e5d730>],\n",
       " 'fliers': [<matplotlib.lines.Line2D at 0x20e17e5dac0>],\n",
       " 'means': []}"
      ]
     },
     "execution_count": 28,
     "metadata": {},
     "output_type": "execute_result"
    },
    {
     "data": {
      "image/png": "[encoded data removed]",
      "text/plain": [
       "<Figure size 432x288 with 1 Axes>"
      ]
     },
     "metadata": {
      "needs_background": "light"
     },
     "output_type": "display_data"
    }
   ],
   "source": [
    "plt.boxplot(taxi.latitude_of_pickup)"
   ]
  },
  {
   "cell_type": "code",
   "execution_count": 29,
   "id": "d3bd650d",
   "metadata": {
    "scrolled": true
   },
   "outputs": [
    {
     "data": {
      "text/plain": [
       "{'whiskers': [<matplotlib.lines.Line2D at 0x20e17ebd460>,\n",
       "  <matplotlib.lines.Line2D at 0x20e17ebd7f0>],\n",
       " 'caps': [<matplotlib.lines.Line2D at 0x20e17ebdb80>,\n",
       "  <matplotlib.lines.Line2D at 0x20e17ebdf10>],\n",
       " 'boxes': [<matplotlib.lines.Line2D at 0x20e17ebd0d0>],\n",
       " 'medians': [<matplotlib.lines.Line2D at 0x20e17ecb2e0>],\n",
       " 'fliers': [<matplotlib.lines.Line2D at 0x20e17ecb670>],\n",
       " 'means': []}"
      ]
     },
     "execution_count": 29,
     "metadata": {},
     "output_type": "execute_result"
    },
    {
     "data": {
      "image/png": "[encoded data removed]",
      "text/plain": [
       "<Figure size 432x288 with 1 Axes>"
      ]
     },
     "metadata": {
      "needs_background": "light"
     },
     "output_type": "display_data"
    }
   ],
   "source": [
    "plt.boxplot(taxi.latitude_of_dropoff)"
   ]
  },
  {
   "cell_type": "code",
   "execution_count": 30,
   "id": "d8cfcc9b",
   "metadata": {},
   "outputs": [],
   "source": [
    "q3=taxi[\"latitude_of_dropoff\"].quantile(0.75)\n",
    "q1=taxi[\"latitude_of_dropoff\"].quantile(0.25)\n",
    "iqr= q3-q1"
   ]
  },
  {
   "cell_type": "code",
   "execution_count": 31,
   "id": "fe2182da",
   "metadata": {},
   "outputs": [],
   "source": [
    "upper_limt=q1+(iqr*1.5)\n",
    "lower_limt=q3-(iqr*1.5)"
   ]
  },
  {
   "cell_type": "code",
   "execution_count": 32,
   "id": "a0e4c92c",
   "metadata": {},
   "outputs": [],
   "source": [
    "taxi[\"latitude_of_dropoff\"]=np.where(taxi[\"latitude_of_dropoff\"] >= upper_limt,upper_limt,np.where(taxi[\"latitude_of_dropoff\"] <= lower_limt,lower_limt,taxi[\"latitude_of_dropoff\"]))"
   ]
  },
  {
   "cell_type": "code",
   "execution_count": 33,
   "id": "1a38d667",
   "metadata": {},
   "outputs": [
    {
     "data": {
      "text/plain": [
       "{'whiskers': [<matplotlib.lines.Line2D at 0x20e17f2a370>,\n",
       "  <matplotlib.lines.Line2D at 0x20e17f2a700>],\n",
       " 'caps': [<matplotlib.lines.Line2D at 0x20e17f2aa90>,\n",
       "  <matplotlib.lines.Line2D at 0x20e17f2ae20>],\n",
       " 'boxes': [<matplotlib.lines.Line2D at 0x20e17f1bfa0>],\n",
       " 'medians': [<matplotlib.lines.Line2D at 0x20e17f351f0>],\n",
       " 'fliers': [<matplotlib.lines.Line2D at 0x20e17f35580>],\n",
       " 'means': []}"
      ]
     },
     "execution_count": 33,
     "metadata": {},
     "output_type": "execute_result"
    },
    {
     "data": {
      "image/png": "[encoded data removed]",
      "text/plain": [
       "<Figure size 432x288 with 1 Axes>"
      ]
     },
     "metadata": {
      "needs_background": "light"
     },
     "output_type": "display_data"
    }
   ],
   "source": [
    "plt.boxplot(taxi.latitude_of_dropoff)"
   ]
  },
  {
   "cell_type": "code",
   "execution_count": 34,
   "id": "2a623aa4",
   "metadata": {},
   "outputs": [
    {
     "data": {
      "text/plain": [
       "array(['26:21.0', '52:16.0', '35:00.0', ..., '38:13.0', '04:12.0',\n",
       "       '53:22.0'], dtype=object)"
      ]
     },
     "execution_count": 34,
     "metadata": {},
     "output_type": "execute_result"
    }
   ],
   "source": [
    "taxi.unique_id.unique()"
   ]
  },
  {
   "cell_type": "code",
   "execution_count": 35,
   "id": "a8a9d31d",
   "metadata": {},
   "outputs": [
    {
     "data": {
      "text/plain": [
       "array(['2009-06-15 17:26:21 UTC', '2010-01-05 16:52:16 UTC',\n",
       "       '2011-08-18 00:35:00 UTC', ..., '2011-01-30 04:53:00 UTC',\n",
       "       '2012-11-06 07:09:00 UTC', '2010-01-13 08:13:14 UTC'], dtype=object)"
      ]
     },
     "execution_count": 35,
     "metadata": {},
     "output_type": "execute_result"
    }
   ],
   "source": [
    "taxi.date_time_of_pickup.unique()"
   ]
  },
  {
   "cell_type": "code",
   "execution_count": 36,
   "id": "fa1d5678",
   "metadata": {},
   "outputs": [],
   "source": [
    "taxi.drop([\"unique_id\",\"date_time_of_pickup\"],axis=1,inplace=True)"
   ]
  },
  {
   "cell_type": "code",
   "execution_count": 37,
   "id": "44383be7",
   "metadata": {},
   "outputs": [],
   "source": [
    "dummie = pd.get_dummies(taxi)"
   ]
  },
  {
   "cell_type": "code",
   "execution_count": 38,
   "id": "16b8cc88",
   "metadata": {},
   "outputs": [
    {
     "data": {
      "text/html": [
       "<div>\n",
       "<style scoped>\n",
       "    .dataframe tbody tr th:only-of-type {\n",
       "        vertical-align: middle;\n",
       "    }\n",
       "\n",
       "    .dataframe tbody tr th {\n",
       "        vertical-align: top;\n",
       "    }\n",
       "\n",
       "    .dataframe thead th {\n",
       "        text-align: right;\n",
       "    }\n",
       "</style>\n",
       "<table border=\"1\" class=\"dataframe\">\n",
       "  <thead>\n",
       "    <tr style=\"text-align: right;\">\n",
       "      <th></th>\n",
       "      <th>amount</th>\n",
       "      <th>longitude_of_pickup</th>\n",
       "      <th>latitude_of_pickup</th>\n",
       "      <th>longitude_of_dropoff</th>\n",
       "      <th>latitude_of_dropoff</th>\n",
       "      <th>no_of_passenger</th>\n",
       "    </tr>\n",
       "  </thead>\n",
       "  <tbody>\n",
       "    <tr>\n",
       "      <th>0</th>\n",
       "      <td>4.5</td>\n",
       "      <td>-73.954691</td>\n",
       "      <td>40.721319</td>\n",
       "      <td>-73.949800</td>\n",
       "      <td>40.717474</td>\n",
       "      <td>1.0</td>\n",
       "    </tr>\n",
       "    <tr>\n",
       "      <th>1</th>\n",
       "      <td>16.9</td>\n",
       "      <td>-74.004519</td>\n",
       "      <td>40.718640</td>\n",
       "      <td>-73.979268</td>\n",
       "      <td>40.782004</td>\n",
       "      <td>1.0</td>\n",
       "    </tr>\n",
       "    <tr>\n",
       "      <th>2</th>\n",
       "      <td>5.7</td>\n",
       "      <td>-73.982738</td>\n",
       "      <td>40.761270</td>\n",
       "      <td>-73.991242</td>\n",
       "      <td>40.750562</td>\n",
       "      <td>2.0</td>\n",
       "    </tr>\n",
       "    <tr>\n",
       "      <th>3</th>\n",
       "      <td>7.7</td>\n",
       "      <td>-73.987130</td>\n",
       "      <td>40.733143</td>\n",
       "      <td>-73.991567</td>\n",
       "      <td>40.758092</td>\n",
       "      <td>1.0</td>\n",
       "    </tr>\n",
       "    <tr>\n",
       "      <th>4</th>\n",
       "      <td>5.3</td>\n",
       "      <td>-73.968095</td>\n",
       "      <td>40.768008</td>\n",
       "      <td>-73.956655</td>\n",
       "      <td>40.783762</td>\n",
       "      <td>1.0</td>\n",
       "    </tr>\n",
       "  </tbody>\n",
       "</table>\n",
       "</div>"
      ],
      "text/plain": [
       "   amount  longitude_of_pickup  latitude_of_pickup  longitude_of_dropoff  \\\n",
       "0     4.5           -73.954691           40.721319            -73.949800   \n",
       "1    16.9           -74.004519           40.718640            -73.979268   \n",
       "2     5.7           -73.982738           40.761270            -73.991242   \n",
       "3     7.7           -73.987130           40.733143            -73.991567   \n",
       "4     5.3           -73.968095           40.768008            -73.956655   \n",
       "\n",
       "   latitude_of_dropoff  no_of_passenger  \n",
       "0            40.717474              1.0  \n",
       "1            40.782004              1.0  \n",
       "2            40.750562              2.0  \n",
       "3            40.758092              1.0  \n",
       "4            40.783762              1.0  "
      ]
     },
     "execution_count": 38,
     "metadata": {},
     "output_type": "execute_result"
    }
   ],
   "source": [
    "dummie.head()"
   ]
  },
  {
   "cell_type": "code",
   "execution_count": 39,
   "id": "6c8b5189",
   "metadata": {},
   "outputs": [],
   "source": [
    "x=dummie.drop([\"amount\"],axis=1)"
   ]
  },
  {
   "cell_type": "code",
   "execution_count": 40,
   "id": "34f09490",
   "metadata": {},
   "outputs": [],
   "source": [
    "y=dummie.amount"
   ]
  },
  {
   "cell_type": "code",
   "execution_count": 41,
   "id": "7476e113",
   "metadata": {},
   "outputs": [],
   "source": [
    "trainx,testx,trainy,testy=train_test_split(x,y,test_size=0.2,random_state=42)"
   ]
  },
  {
   "cell_type": "markdown",
   "id": "bea3d328",
   "metadata": {},
   "source": [
    "# RandomForestRegressor"
   ]
  },
  {
   "cell_type": "code",
   "execution_count": 42,
   "id": "9c6d8a0b",
   "metadata": {},
   "outputs": [
    {
     "data": {
      "text/plain": [
       "RandomForestRegressor(random_state=0)"
      ]
     },
     "execution_count": 42,
     "metadata": {},
     "output_type": "execute_result"
    }
   ],
   "source": [
    "rf=RandomForestRegressor(random_state=0)\n",
    "rf.fit(trainx,trainy)"
   ]
  },
  {
   "cell_type": "code",
   "execution_count": 43,
   "id": "7fef18a6",
   "metadata": {},
   "outputs": [
    {
     "data": {
      "text/plain": [
       "array([ 9.495 , 31.7564,  4.878 , ...,  9.48  , 22.0876,  7.7791])"
      ]
     },
     "execution_count": 43,
     "metadata": {},
     "output_type": "execute_result"
    }
   ],
   "source": [
    "rf.predict(testx)"
   ]
  },
  {
   "cell_type": "code",
   "execution_count": 44,
   "id": "80d32dba",
   "metadata": {},
   "outputs": [],
   "source": [
    "d=rf.score(testx,testy)"
   ]
  },
  {
   "cell_type": "code",
   "execution_count": 47,
   "id": "93da3e81",
   "metadata": {},
   "outputs": [
    {
     "data": {
      "text/plain": [
       "0.5009092137162034"
      ]
     },
     "execution_count": 47,
     "metadata": {},
     "output_type": "execute_result"
    }
   ],
   "source": [
    "d"
   ]
  },
  {
   "cell_type": "code",
   "execution_count": 45,
   "id": "3e81ea5d",
   "metadata": {},
   "outputs": [],
   "source": [
    "rme3=sqrt(mean_squared_error(testy,rf.predict(testx),squared=False))"
   ]
  },
  {
   "cell_type": "code",
   "execution_count": 48,
   "id": "977decc1",
   "metadata": {},
   "outputs": [
    {
     "data": {
      "text/plain": [
       "2.609946854239275"
      ]
     },
     "execution_count": 48,
     "metadata": {},
     "output_type": "execute_result"
    }
   ],
   "source": [
    "rme3"
   ]
  },
  {
   "cell_type": "code",
   "execution_count": null,
   "id": "4c398ce1",
   "metadata": {},
   "outputs": [],
   "source": []
  }
 ],
 "metadata": {
  "kernelspec": {
   "display_name": "Python 3 (ipykernel)",
   "language": "python",
   "name": "python3"
  },
  "language_info": {
   "codemirror_mode": {
    "name": "ipython",
    "version": 3
   },
   "file_extension": ".py",
   "mimetype": "text/x-python",
   "name": "python",
   "nbconvert_exporter": "python",
   "pygments_lexer": "ipython3",
   "version": "3.9.7"
  }
 },
 "nbformat": 4,
 "nbformat_minor": 5
}
